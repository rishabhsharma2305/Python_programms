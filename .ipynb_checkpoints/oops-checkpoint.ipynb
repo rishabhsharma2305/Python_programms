{
 "cells": [
  {
   "cell_type": "code",
   "execution_count": 1,
   "metadata": {},
   "outputs": [],
   "source": [
    "class employ:\n",
    "    name= None\n",
    "    sal=0.00\n",
    "    department=None\n",
    "rishabh= employ()    "
   ]
  },
  {
   "cell_type": "code",
   "execution_count": 3,
   "metadata": {},
   "outputs": [],
   "source": [
    "rishabh.name=\"rishabh\"\n",
    "\n",
    "#creating properties outside class\n",
    "rishabh.bonus=10000"
   ]
  },
  {
   "cell_type": "code",
   "execution_count": 4,
   "metadata": {},
   "outputs": [
    {
     "name": "stdout",
     "output_type": "stream",
     "text": [
      "10000\n"
     ]
    }
   ],
   "source": [
    "print(rishabh.bonus)"
   ]
  },
  {
   "cell_type": "code",
   "execution_count": 2,
   "metadata": {},
   "outputs": [
    {
     "name": "stdout",
     "output_type": "stream",
     "text": [
      "None\n"
     ]
    }
   ],
   "source": [
    "print(rishabh)"
   ]
  },
  {
   "cell_type": "code",
   "execution_count": 4,
   "metadata": {},
   "outputs": [
    {
     "data": {
      "text/plain": [
       "56919536"
      ]
     },
     "execution_count": 4,
     "metadata": {},
     "output_type": "execute_result"
    }
   ],
   "source": [
    "id(rishabh)"
   ]
  },
  {
   "cell_type": "code",
   "execution_count": 5,
   "metadata": {},
   "outputs": [
    {
     "data": {
      "text/plain": [
       "__main__.employ"
      ]
     },
     "execution_count": 5,
     "metadata": {},
     "output_type": "execute_result"
    }
   ],
   "source": [
    "type(rishabh)"
   ]
  },
  {
   "cell_type": "code",
   "execution_count": 6,
   "metadata": {},
   "outputs": [],
   "source": [
    "rishabh.name= \"Rishabh sharma\"\n",
    "rishabh.sal= 10000000.00\n",
    "rishabh.department=\"sde\""
   ]
  },
  {
   "cell_type": "code",
   "execution_count": 9,
   "metadata": {},
   "outputs": [
    {
     "name": "stdout",
     "output_type": "stream",
     "text": [
      "Rishabh sharma 10000000.0 sde\n"
     ]
    }
   ],
   "source": [
    "print(f\"{rishabh.name} {rishabh.sal} {rishabh.department}\")"
   ]
  },
  {
   "cell_type": "code",
   "execution_count": 15,
   "metadata": {},
   "outputs": [
    {
     "name": "stdout",
     "output_type": "stream",
     "text": [
      "raju 14 pn\n"
     ]
    }
   ],
   "source": [
    "raju= employ()\n",
    "raju.name, raju.sal, raju.department= input().split()\n",
    "raju.sal=int(raju.sal)"
   ]
  },
  {
   "cell_type": "code",
   "execution_count": 16,
   "metadata": {},
   "outputs": [
    {
     "data": {
      "text/plain": [
       "'raju'"
      ]
     },
     "execution_count": 16,
     "metadata": {},
     "output_type": "execute_result"
    }
   ],
   "source": [
    "raju.name\n"
   ]
  },
  {
   "cell_type": "code",
   "execution_count": 17,
   "metadata": {},
   "outputs": [
    {
     "data": {
      "text/plain": [
       "14"
      ]
     },
     "execution_count": 17,
     "metadata": {},
     "output_type": "execute_result"
    }
   ],
   "source": [
    "raju.sal"
   ]
  },
  {
   "cell_type": "code",
   "execution_count": 15,
   "metadata": {},
   "outputs": [
    {
     "name": "stdout",
     "output_type": "stream",
     "text": [
      "Name is  rishabh  and roll is  2181\n",
      "<__main__.student object at 0x05A57B70>\n"
     ]
    }
   ],
   "source": [
    "class student:\n",
    "    def __init__(self, name, roll):\n",
    "        self.name= name\n",
    "        self.roll= roll\n",
    "    def show(self):\n",
    "        print(\"Name is \",self.name,\" and roll is \",self.roll)\n",
    "        print(self)\n",
    "rishabh= student(\"rishabh\",2181) \n",
    "# ram= student(\"ram\")\n",
    "rishabh.show()"
   ]
  },
  {
   "cell_type": "code",
   "execution_count": 2,
   "metadata": {},
   "outputs": [
    {
     "name": "stdout",
     "output_type": "stream",
     "text": [
      "initializing constructer...\n",
      "In purchase\n",
      "Name is apple model is xs and price is 149000\n",
      "In purchase\n",
      "Name is apple model is xs and price is 99000\n",
      "initializing constructer...\n",
      "In purchase\n",
      "Name is None model is galaxy10 and price is 10000\n"
     ]
    }
   ],
   "source": [
    "class mobile:\n",
    "    def __init__(self,name=None,model=None,price=None):\n",
    "        print(\"initializing constructer...\")\n",
    "        self.name= name\n",
    "        self.model= model\n",
    "        self. price= price\n",
    "    def purchase(self):\n",
    "        print(\"In purchase\")\n",
    "        if self.name==\"apple\":\n",
    "            self.price= self.price-1000\n",
    "        print(f\"Name is {self.name} model is {self.model} and price is {self.price}\")\n",
    "        \n",
    "apple= mobile(\"apple\",\"xs\",150000)      \n",
    "apple.purchase()\n",
    "apple.price= 100000\n",
    "apple.purchase()\n",
    "\n",
    "samsung= mobile(model=\"galaxy10\" ,price=10000)\n",
    "samsung.purchase()"
   ]
  },
  {
   "cell_type": "code",
   "execution_count": 25,
   "metadata": {},
   "outputs": [
    {
     "name": "stdout",
     "output_type": "stream",
     "text": [
      "5\n"
     ]
    }
   ],
   "source": [
    "class arith:\n",
    "    def sum(self,a,b):\n",
    "        return a+b\n",
    "ob= arith()\n",
    "print(ob.sum(2,3))"
   ]
  },
  {
   "cell_type": "raw",
   "metadata": {},
   "source": [
    "a,b,c,d= list(map(int,input().split()))\n"
   ]
  },
  {
   "cell_type": "code",
   "execution_count": 27,
   "metadata": {},
   "outputs": [
    {
     "data": {
      "text/plain": [
       "4"
      ]
     },
     "execution_count": 27,
     "metadata": {},
     "output_type": "execute_result"
    }
   ],
   "source": [
    "d"
   ]
  },
  {
   "cell_type": "code",
   "execution_count": 18,
   "metadata": {},
   "outputs": [
    {
     "name": "stdout",
     "output_type": "stream",
     "text": [
      "has  4  airbags\n",
      "color= red and engine= 550cc\n"
     ]
    }
   ],
   "source": [
    "class car:\n",
    "    def __init__(self,color,engine):\n",
    "        self.color=color\n",
    "        self.engine=engine\n",
    "    def purchase(self):\n",
    "        print(f\"color= {self.color} and engine= {self.engine}\")\n",
    "class audi(car):\n",
    "    def __init__(self,color,engine,airbag):\n",
    "        car.__init__(self,color,engine)\n",
    "        self.airbag= airbag\n",
    "\n",
    "    def show(self):\n",
    "        print(\"has \",self.airbag,\" airbags\")\n",
    "\n",
    "obj= audi('red','550cc',4)              \n",
    "obj.show()        \n",
    "obj.purchase()"
   ]
  },
  {
   "cell_type": "code",
   "execution_count": 48,
   "metadata": {},
   "outputs": [
    {
     "name": "stdout",
     "output_type": "stream",
     "text": [
      "make= audi\n",
      "color= black\n"
     ]
    }
   ],
   "source": [
    "class vehicle:\n",
    "    def __init__(self,make,color):\n",
    "        self.make= make\n",
    "        self.color= color\n",
    "    def show(self):\n",
    "        print(\"make=\",self.make)\n",
    "        print(\"color=\",self.color)\n",
    "class car(vehicle):\n",
    "    def __init__(self,make,color,wheels):\n",
    "        vehicle.__init__(self,make,color)\n",
    "        self.wheels=wheels\n",
    "    def showcar(self):\n",
    "        print(self.make)\n",
    "        print(\"wheels=\",self.wheels)\n",
    "ob= car(\"audi\",\"black\",4)\n",
    "ob.show()"
   ]
  },
  {
   "cell_type": "code",
   "execution_count": 25,
   "metadata": {},
   "outputs": [
    {
     "name": "stdout",
     "output_type": "stream",
     "text": [
      "hi\n"
     ]
    }
   ],
   "source": [
    "class ab:\n",
    "    def hello(self):\n",
    "        print(\"hi\")\n",
    "    def show(self):\n",
    "        self.hello()\n",
    "a= ab()\n",
    "a.show()"
   ]
  },
  {
   "cell_type": "code",
   "execution_count": 42,
   "metadata": {},
   "outputs": [
    {
     "name": "stdout",
     "output_type": "stream",
     "text": [
      "5\n",
      "10\n"
     ]
    }
   ],
   "source": [
    "class adult:\n",
    "    age=10\n",
    "    def showage(self):\n",
    "        print(self.age)\n",
    "class infant(adult):\n",
    "    age1=5\n",
    "    def show(self):\n",
    "        print(self.age1)\n",
    "        super().showage()\n",
    "ob= infant()\n",
    "ob.show()"
   ]
  },
  {
   "cell_type": "code",
   "execution_count": 44,
   "metadata": {},
   "outputs": [
    {
     "name": "stdout",
     "output_type": "stream",
     "text": [
      "make= audi\n",
      "color= black\n"
     ]
    }
   ],
   "source": [
    "class vehicle:\n",
    "    def __init__(self,make,color):\n",
    "        self.make= make\n",
    "        self.color= color\n",
    "    def show(self):\n",
    "        print(\"make=\",self.make)\n",
    "        print(\"color=\",self.color)\n",
    "class car(vehicle):\n",
    "    def __init__(self,make,color,wheels):\n",
    "        super().__init__(make,color)\n",
    "        self.wheels=wheels\n",
    "    def showcar(self):\n",
    "        print(self.make)\n",
    "        print(\"wheels=\",self.wheels)\n",
    "ob= car(\"audi\",\"black\",4)\n",
    "ob.show()"
   ]
  },
  {
   "cell_type": "code",
   "execution_count": null,
   "metadata": {},
   "outputs": [],
   "source": []
  }
 ],
 "metadata": {
  "kernelspec": {
   "display_name": "Python 3",
   "language": "python",
   "name": "python3"
  },
  "language_info": {
   "codemirror_mode": {
    "name": "ipython",
    "version": 3
   },
   "file_extension": ".py",
   "mimetype": "text/x-python",
   "name": "python",
   "nbconvert_exporter": "python",
   "pygments_lexer": "ipython3",
   "version": "3.7.4"
  }
 },
 "nbformat": 4,
 "nbformat_minor": 4
}
