{
 "cells": [
  {
   "cell_type": "code",
   "execution_count": 1,
   "metadata": {},
   "outputs": [],
   "source": [
    "class employ:\n",
    "    name= None\n",
    "    sal=0.00\n",
    "    department=None\n",
    "rishabh= employ()    "
   ]
  },
  {
   "cell_type": "code",
   "execution_count": 3,
   "metadata": {},
   "outputs": [],
   "source": [
    "rishabh.name=\"rishabh\"\n",
    "\n",
    "#creating properties outside class\n",
    "rishabh.bonus=10000"
   ]
  },
  {
   "cell_type": "code",
   "execution_count": 4,
   "metadata": {},
   "outputs": [
    {
     "name": "stdout",
     "output_type": "stream",
     "text": [
      "10000\n"
     ]
    }
   ],
   "source": [
    "print(rishabh.bonus)"
   ]
  },
  {
   "cell_type": "code",
   "execution_count": 2,
   "metadata": {},
   "outputs": [
    {
     "name": "stdout",
     "output_type": "stream",
     "text": [
      "None\n"
     ]
    }
   ],
   "source": [
    "print(rishabh)"
   ]
  },
  {
   "cell_type": "code",
   "execution_count": 4,
   "metadata": {},
   "outputs": [
    {
     "data": {
      "text/plain": [
       "56919536"
      ]
     },
     "execution_count": 4,
     "metadata": {},
     "output_type": "execute_result"
    }
   ],
   "source": [
    "id(rishabh)"
   ]
  },
  {
   "cell_type": "code",
   "execution_count": 5,
   "metadata": {},
   "outputs": [
    {
     "data": {
      "text/plain": [
       "__main__.employ"
      ]
     },
     "execution_count": 5,
     "metadata": {},
     "output_type": "execute_result"
    }
   ],
   "source": [
    "type(rishabh)"
   ]
  },
  {
   "cell_type": "code",
   "execution_count": 6,
   "metadata": {},
   "outputs": [],
   "source": [
    "rishabh.name= \"Rishabh sharma\"\n",
    "rishabh.sal= 10000000.00\n",
    "rishabh.department=\"sde\""
   ]
  },
  {
   "cell_type": "code",
   "execution_count": 9,
   "metadata": {},
   "outputs": [
    {
     "name": "stdout",
     "output_type": "stream",
     "text": [
      "Rishabh sharma 10000000.0 sde\n"
     ]
    }
   ],
   "source": [
    "print(f\"{rishabh.name} {rishabh.sal} {rishabh.department}\")"
   ]
  },
  {
   "cell_type": "code",
   "execution_count": 15,
   "metadata": {},
   "outputs": [
    {
     "name": "stdout",
     "output_type": "stream",
     "text": [
      "raju 14 pn\n"
     ]
    }
   ],
   "source": [
    "raju= employ()\n",
    "raju.name, raju.sal, raju.department= input().split()\n",
    "raju.sal=int(raju.sal)"
   ]
  },
  {
   "cell_type": "code",
   "execution_count": 16,
   "metadata": {},
   "outputs": [
    {
     "data": {
      "text/plain": [
       "'raju'"
      ]
     },
     "execution_count": 16,
     "metadata": {},
     "output_type": "execute_result"
    }
   ],
   "source": [
    "raju.name\n"
   ]
  },
  {
   "cell_type": "code",
   "execution_count": 17,
   "metadata": {},
   "outputs": [
    {
     "data": {
      "text/plain": [
       "14"
      ]
     },
     "execution_count": 17,
     "metadata": {},
     "output_type": "execute_result"
    }
   ],
   "source": [
    "raju.sal"
   ]
  },
  {
   "cell_type": "code",
   "execution_count": 15,
   "metadata": {},
   "outputs": [
    {
     "name": "stdout",
     "output_type": "stream",
     "text": [
      "Name is  rishabh  and roll is  2181\n",
      "<__main__.student object at 0x05A57B70>\n"
     ]
    }
   ],
   "source": [
    "class student:\n",
    "    def __init__(self, name, roll):\n",
    "        self.name= name\n",
    "        self.roll= roll\n",
    "    def show(self):\n",
    "        print(\"Name is \",self.name,\" and roll is \",self.roll)\n",
    "        print(self)\n",
    "rishabh= student(\"rishabh\",2181) \n",
    "# ram= student(\"ram\")\n",
    "rishabh.show()"
   ]
  },
  {
   "cell_type": "code",
   "execution_count": 2,
   "metadata": {},
   "outputs": [
    {
     "name": "stdout",
     "output_type": "stream",
     "text": [
      "initializing constructer...\n",
      "In purchase\n",
      "Name is apple model is xs and price is 149000\n",
      "In purchase\n",
      "Name is apple model is xs and price is 99000\n",
      "initializing constructer...\n",
      "In purchase\n",
      "Name is None model is galaxy10 and price is 10000\n"
     ]
    }
   ],
   "source": [
    "class mobile:\n",
    "    def __init__(self,name=None,model=None,price=None):\n",
    "        print(\"initializing constructer...\")\n",
    "        self.name= name\n",
    "        self.model= model\n",
    "        self. price= price\n",
    "    def purchase(self):\n",
    "        print(\"In purchase\")\n",
    "        if self.name==\"apple\":\n",
    "            self.price= self.price-1000\n",
    "        print(f\"Name is {self.name} model is {self.model} and price is {self.price}\")\n",
    "        \n",
    "apple= mobile(\"apple\",\"xs\",150000)      \n",
    "apple.purchase()\n",
    "apple.price= 100000\n",
    "apple.purchase()\n",
    "\n",
    "samsung= mobile(model=\"galaxy10\" ,price=10000)\n",
    "samsung.purchase()"
   ]
  },
  {
   "cell_type": "code",
   "execution_count": 25,
   "metadata": {},
   "outputs": [
    {
     "name": "stdout",
     "output_type": "stream",
     "text": [
      "5\n"
     ]
    }
   ],
   "source": [
    "class arith:\n",
    "    def sum(self,a,b):\n",
    "        return a+b\n",
    "ob= arith()\n",
    "print(ob.sum(2,3))"
   ]
  },
  {
   "cell_type": "raw",
   "metadata": {},
   "source": [
    "a,b,c,d= list(map(int,input().split()))\n"
   ]
  },
  {
   "cell_type": "code",
   "execution_count": 27,
   "metadata": {},
   "outputs": [
    {
     "data": {
      "text/plain": [
       "4"
      ]
     },
     "execution_count": 27,
     "metadata": {},
     "output_type": "execute_result"
    }
   ],
   "source": [
    "d"
   ]
  },
  {
   "cell_type": "code",
   "execution_count": 18,
   "metadata": {},
   "outputs": [
    {
     "name": "stdout",
     "output_type": "stream",
     "text": [
      "has  4  airbags\n",
      "color= red and engine= 550cc\n"
     ]
    }
   ],
   "source": [
    "class car:\n",
    "    def __init__(self,color,engine):\n",
    "        self.color=color\n",
    "        self.engine=engine\n",
    "    def purchase(self):\n",
    "        print(f\"color= {self.color} and engine= {self.engine}\")\n",
    "class audi(car):\n",
    "    def __init__(self,color,engine,airbag):\n",
    "        car.__init__(self,color,engine)\n",
    "        self.airbag= airbag\n",
    "\n",
    "    def show(self):\n",
    "        print(\"has \",self.airbag,\" airbags\")\n",
    "\n",
    "obj= audi('red','550cc',4)              \n",
    "obj.show()        \n",
    "obj.purchase()"
   ]
  },
  {
   "cell_type": "code",
   "execution_count": 48,
   "metadata": {},
   "outputs": [
    {
     "name": "stdout",
     "output_type": "stream",
     "text": [
      "make= audi\n",
      "color= black\n"
     ]
    }
   ],
   "source": [
    "class vehicle:\n",
    "    def __init__(self,make,color):\n",
    "        self.make= make\n",
    "        self.color= color\n",
    "    def show(self):\n",
    "        print(\"make=\",self.make)\n",
    "        print(\"color=\",self.color)\n",
    "class car(vehicle):\n",
    "    def __init__(self,make,color,wheels):\n",
    "        vehicle.__init__(self,make,color)\n",
    "        self.wheels=wheels\n",
    "    def showcar(self):\n",
    "        print(self.make)\n",
    "        print(\"wheels=\",self.wheels)\n",
    "ob= car(\"audi\",\"black\",4)\n",
    "ob.show()"
   ]
  },
  {
   "cell_type": "code",
   "execution_count": 25,
   "metadata": {},
   "outputs": [
    {
     "name": "stdout",
     "output_type": "stream",
     "text": [
      "hi\n"
     ]
    }
   ],
   "source": [
    "class ab:\n",
    "    def hello(self):\n",
    "        print(\"hi\")\n",
    "    def show(self):\n",
    "        self.hello()\n",
    "a= ab()\n",
    "a.show()"
   ]
  },
  {
   "cell_type": "code",
   "execution_count": 42,
   "metadata": {},
   "outputs": [
    {
     "name": "stdout",
     "output_type": "stream",
     "text": [
      "5\n",
      "10\n"
     ]
    }
   ],
   "source": [
    "class adult:\n",
    "    age=10\n",
    "    def showage(self):\n",
    "        print(self.age)\n",
    "class infant(adult):\n",
    "    age1=5\n",
    "    def show(self):\n",
    "        print(self.age1)\n",
    "        super().showage()\n",
    "ob= infant()\n",
    "ob.show()"
   ]
  },
  {
   "cell_type": "code",
   "execution_count": 44,
   "metadata": {},
   "outputs": [
    {
     "name": "stdout",
     "output_type": "stream",
     "text": [
      "make= audi\n",
      "color= black\n"
     ]
    }
   ],
   "source": [
    "class vehicle:\n",
    "    def __init__(self,make,color):\n",
    "        self.make= make\n",
    "        self.color= color\n",
    "    def show(self):\n",
    "        print(\"make=\",self.make)\n",
    "        print(\"color=\",self.color)\n",
    "class car(vehicle):\n",
    "    def __init__(self,make,color,wheels):\n",
    "        super().__init__(make,color)\n",
    "        self.wheels=wheels\n",
    "    def showcar(self):\n",
    "        print(self.make)\n",
    "        print(\"wheels=\",self.wheels)\n",
    "ob= car(\"audi\",\"black\",4)\n",
    "ob.show()"
   ]
  },
  {
   "cell_type": "code",
   "execution_count": 4,
   "metadata": {},
   "outputs": [
    {
     "name": "stdout",
     "output_type": "stream",
     "text": [
      "a\n",
      "b\n"
     ]
    }
   ],
   "source": [
    "class a:\n",
    "    def disp(self):\n",
    "        print(\"a\")\n",
    "class b(a):\n",
    "    def fun(self):\n",
    "        super().disp()\n",
    "        print(\"b\")\n",
    "o= b()\n",
    "o.fun()"
   ]
  },
  {
   "cell_type": "code",
   "execution_count": 6,
   "metadata": {},
   "outputs": [
    {
     "name": "stdout",
     "output_type": "stream",
     "text": [
      "class a\n",
      "None\n",
      "class b\n",
      "None\n",
      "class c\n",
      "None\n"
     ]
    }
   ],
   "source": [
    "class a:\n",
    "    def fun1(self):\n",
    "        print(\"class a\")\n",
    "class b:\n",
    "    def fun2(self):\n",
    "        print(\"class b\")\n",
    "class c(a,b):\n",
    "    def fun3(self):\n",
    "        print(\"class c\")   \n",
    "ob=c()\n",
    "print(ob.fun1())\n",
    "print(ob.fun2())\n",
    "print(ob.fun3())"
   ]
  },
  {
   "cell_type": "code",
   "execution_count": 22,
   "metadata": {},
   "outputs": [
    {
     "name": "stdout",
     "output_type": "stream",
     "text": [
      "rishabh\n",
      "rishabh\n",
      "2210\n",
      "=========after change==========\n",
      "rishabh sharma\n",
      "2210\n",
      "=========after change==========\n",
      "rishabh sharma\n",
      "2210\n",
      "=========after change==========\n",
      "2210\n",
      "=========after change==========\n",
      "5555\n",
      "=========after change==========\n",
      "rishabh sharma\n",
      "5555\n"
     ]
    }
   ],
   "source": [
    "class bank:\n",
    "    def __init__(self,acc,name):\n",
    "        self.__account=acc      #private member\n",
    "        self.name= name             #public member\n",
    "    def display(self):\n",
    "        print(self.name)\n",
    "        print(self.__account)\n",
    "ob= bank(2210,\"rishabh\")        \n",
    "print(ob.name)\n",
    "# print(ob.__account)\n",
    "ob.display()\n",
    "print(\"=========after change==========\")\n",
    "ob.name=\"rishabh sharma\"\n",
    "ob.display()\n",
    "print(\"=========after change==========\")\n",
    "ob.__account=1111\n",
    "ob.display()\n",
    "\n",
    "print(\"=========after change==========\")\n",
    "print(ob._bank__account)\n",
    "print(\"=========after change==========\")\n",
    "ob._bank__account=5555\n",
    "print(ob._bank__account)\n",
    "print(\"=========after change==========\")\n",
    "ob.display()"
   ]
  },
  {
   "cell_type": "code",
   "execution_count": 2,
   "metadata": {},
   "outputs": [
    {
     "name": "stdout",
     "output_type": "stream",
     "text": [
      "messi\n",
      "india\n",
      "=========after change==========\n",
      "india\n",
      "barcelona\n",
      "=========after change==========\n",
      "spain\n"
     ]
    }
   ],
   "source": [
    "class player:\n",
    "    team=\"india\"\n",
    "    def __init__(self,name):\n",
    "        self.name=name\n",
    "    def disp(self):\n",
    "        print(self.name)\n",
    "        \n",
    "    @classmethod\n",
    "    def teamname(cls):\n",
    "        print(cls.team)\n",
    "    @classmethod\n",
    "    def change_team(cls,new_name):\n",
    "        cls.team= new_name\n",
    "ob= player(\"messi\")        \n",
    "ob.disp()\n",
    "ob.teamname()\n",
    "\n",
    "ob.team=\"barcelona\"\n",
    "print(\"=========after change==========\")\n",
    "ob.teamname()\n",
    "print(ob.team)\n",
    "print(\"=========after change==========\")\n",
    "ob.change_team(\"spain\")\n",
    "ob.teamname()"
   ]
  },
  {
   "cell_type": "code",
   "execution_count": 60,
   "metadata": {},
   "outputs": [
    {
     "name": "stdout",
     "output_type": "stream",
     "text": [
      "181\n",
      "80\n",
      "0.02828125\n",
      "0.02828125\n"
     ]
    }
   ],
   "source": [
    "class health:\n",
    "    def __init__(self,hieght,wieght):\n",
    "        self.hieght=hieght\n",
    "        self.wieght=wieght\n",
    "    @staticmethod\n",
    "    def bmi( hieght,wieght):\n",
    "        res= hieght/(wieght**2)\n",
    "        print(res)\n",
    "    def disp(self):\n",
    "        print(self.hieght)\n",
    "        print(self.wieght)\n",
    "        \n",
    "   \n",
    "ob= health(181,80)\n",
    "ob.disp()\n",
    "ob.bmi(181,80)\n",
    "health.bmi(181,80)"
   ]
  },
  {
   "cell_type": "code",
   "execution_count": 70,
   "metadata": {},
   "outputs": [
    {
     "name": "stdout",
     "output_type": "stream",
     "text": [
      "rishabh\n",
      "jonas\n"
     ]
    }
   ],
   "source": [
    "class user:\n",
    "    def __init__(self,name):\n",
    "        self.__username= name\n",
    "    def set(self,new_name):\n",
    "        self.__username=new_name\n",
    "    def get(self):\n",
    "        print(self.__username)\n",
    "\n",
    "rishabh= user(\"rishabh\") \n",
    "rishabh.get()\n",
    "rishabh.set(\"jonas\")\n",
    "rishabh.get()"
   ]
  },
  {
   "cell_type": "code",
   "execution_count": 7,
   "metadata": {},
   "outputs": [
    {
     "name": "stdout",
     "output_type": "stream",
     "text": [
      "hindi\n",
      "english\n",
      "hindi\n",
      "english\n"
     ]
    }
   ],
   "source": [
    "class india:\n",
    "    def language(self):\n",
    "        print(\"hindi\")\n",
    "class usa:\n",
    "    def language(self):\n",
    "        print(\"english\")\n",
    "ind= india()\n",
    "us= usa()\n",
    "ind.language()\n",
    "us.language()\n",
    "\n",
    "for lang in[ind,us]:\n",
    "    lang.language()"
   ]
  },
  {
   "cell_type": "code",
   "execution_count": 10,
   "metadata": {},
   "outputs": [
    {
     "name": "stdout",
     "output_type": "stream",
     "text": [
      "I may or may not fly\n",
      "i can fly\n",
      "i can't fly \n",
      "i am bird\n"
     ]
    }
   ],
   "source": [
    "class bird:\n",
    "    def intro(self):\n",
    "        print(\"i am bird\")\n",
    "    def fly(self):\n",
    "        print(\"I may or may not fly\")\n",
    "class sparrow(bird):\n",
    "    def fly(self):\n",
    "        print(\"i can fly\")\n",
    "class duck(bird):\n",
    "    def fly(self):\n",
    "        print(\"i can't fly \")\n",
    "b=bird()\n",
    "s=sparrow()\n",
    "d=duck()\n",
    "b.fly()\n",
    "s.fly()\n",
    "d.fly()\n",
    "d.intro()"
   ]
  },
  {
   "cell_type": "code",
   "execution_count": 14,
   "metadata": {},
   "outputs": [
    {
     "name": "stdout",
     "output_type": "stream",
     "text": [
      "3\n",
      "rishabh sharma\n"
     ]
    }
   ],
   "source": [
    "class arith:\n",
    "    def sum(self, a,b):\n",
    "        return a+b\n",
    "ob= arith()\n",
    "print(ob.sum(1,2))\n",
    "print(ob.sum(\"rishabh\",\" sharma\"))"
   ]
  },
  {
   "cell_type": "code",
   "execution_count": 18,
   "metadata": {},
   "outputs": [
    {
     "name": "stdout",
     "output_type": "stream",
     "text": [
      "3\n",
      "6\n",
      "Rishabh sharma\n"
     ]
    }
   ],
   "source": [
    "class arith:\n",
    "    def sum(self, a,b,c=None):\n",
    "        if c!=None:\n",
    "            return a+b+c\n",
    "        return a+b\n",
    "ob= arith()\n",
    "print(ob.sum(1,2))\n",
    "print(ob.sum(1,2,3))\n",
    "print(ob.sum(\"Rishabh\",\" sharma\"))"
   ]
  },
  {
   "cell_type": "code",
   "execution_count": 19,
   "metadata": {},
   "outputs": [],
   "source": [
    "class node:\n",
    "    def __init__(self,key):\n",
    "        self.data=key\n",
    "        self.next=None\n",
    "\n",
    "\n",
    "class linklist:\n",
    "    def __init__(self):\n",
    "        self.head=None\n",
    "\n",
    "    # INSERTION AT BEGINING    \n",
    "    def insert_at_begining(self,key):\n",
    "        new_node= node(key)\n",
    "        new_node.next= self.head\n",
    "        self.head= new_node\n",
    "    def print_list(self):\n",
    "        temp= self.head\n",
    "        while temp!=None:\n",
    "            print(temp.data,end=\" \")\n",
    "            temp=temp.next\n",
    "    def fun(self):\n",
    "        temp= self.head\n",
    "        print(temp.next.next.data)\n",
    "    def delete(self,val):\n",
    "        temp=self.head\n",
    "        while temp.next.data!=val:\n",
    "            temp=temp.next\n",
    "        temp.next= temp.next.next"
   ]
  },
  {
   "cell_type": "code",
   "execution_count": 20,
   "metadata": {},
   "outputs": [
    {
     "name": "stdout",
     "output_type": "stream",
     "text": [
      "59 49 39 29 15 12 "
     ]
    }
   ],
   "source": [
    "my_list= linklist()\n",
    "my_list.insert_at_begining(12)\n",
    "my_list.insert_at_begining(15)\n",
    "my_list.insert_at_begining(29)\n",
    "my_list.insert_at_begining(39)\n",
    "my_list.insert_at_begining(49)\n",
    "my_list.insert_at_begining(59)\n",
    "\n",
    "my_list.print_list()"
   ]
  },
  {
   "cell_type": "code",
   "execution_count": 21,
   "metadata": {},
   "outputs": [
    {
     "name": "stdout",
     "output_type": "stream",
     "text": [
      "59 49 29 15 12 "
     ]
    }
   ],
   "source": [
    "my_list.delete(39)\n",
    "my_list.print_list()"
   ]
  },
  {
   "cell_type": "code",
   "execution_count": null,
   "metadata": {},
   "outputs": [],
   "source": []
  }
 ],
 "metadata": {
  "kernelspec": {
   "display_name": "Python 3",
   "language": "python",
   "name": "python3"
  },
  "language_info": {
   "codemirror_mode": {
    "name": "ipython",
    "version": 3
   },
   "file_extension": ".py",
   "mimetype": "text/x-python",
   "name": "python",
   "nbconvert_exporter": "python",
   "pygments_lexer": "ipython3",
   "version": "3.7.4"
  }
 },
 "nbformat": 4,
 "nbformat_minor": 4
}
